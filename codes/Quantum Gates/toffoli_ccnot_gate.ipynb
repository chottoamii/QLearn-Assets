{
 "cells": [
  {
   "cell_type": "code",
   "execution_count": 1,
   "id": "3b3de97c",
   "metadata": {},
   "outputs": [],
   "source": [
    "from qiskit import QuantumCircuit, transpile, Aer, execute\n",
    "from qiskit.visualization import plot_histogram, plot_bloch_multivector"
   ]
  },
  {
   "cell_type": "code",
   "execution_count": 2,
   "id": "fd8f348b",
   "metadata": {},
   "outputs": [],
   "source": [
    "def get_result_from_backend(qc, shots=1000, simulator_name='qasm_simulator'):\n",
    "    \n",
    "    # Choose the backend (simulator or real quantum device)\n",
    "    backend = Aer.get_backend(simulator_name)\n",
    "\n",
    "    # Transpile the quantum circuit for the chosen backend\n",
    "    transpiled_qc = transpile(qc, backend)\n",
    "\n",
    "    # Execute the quantum circuit on the chosen backend\n",
    "    result = execute(transpiled_qc, backend, shots=shots).result()\n",
    "    \n",
    "    return result"
   ]
  },
  {
   "cell_type": "code",
   "execution_count": 3,
   "id": "6d2ec0b8",
   "metadata": {},
   "outputs": [],
   "source": [
    "def get_unitary_matrix(qc):\n",
    "    result = get_result_from_backend(qc,simulator_name='unitary_simulator')\n",
    "    return result.get_unitary(qc, decimals=3)"
   ]
  },
  {
   "cell_type": "code",
   "execution_count": 4,
   "id": "6f829119",
   "metadata": {},
   "outputs": [],
   "source": [
    "def get_state_vector(qc):\n",
    "    result = get_result_from_backend(qc,simulator_name='statevector_simulator')\n",
    "    statevector = result.get_statevector()\n",
    "\n",
    "    # Visualize the Bloch sphere representation of the final state\n",
    "    return statevector"
   ]
  },
  {
   "cell_type": "code",
   "execution_count": null,
   "id": "0814142e",
   "metadata": {},
   "outputs": [],
   "source": []
  }
 ],
 "metadata": {
  "kernelspec": {
   "display_name": "Python 3 (ipykernel)",
   "language": "python",
   "name": "python3"
  },
  "language_info": {
   "codemirror_mode": {
    "name": "ipython",
    "version": 3
   },
   "file_extension": ".py",
   "mimetype": "text/x-python",
   "name": "python",
   "nbconvert_exporter": "python",
   "pygments_lexer": "ipython3",
   "version": "3.11.4"
  }
 },
 "nbformat": 4,
 "nbformat_minor": 5
}
