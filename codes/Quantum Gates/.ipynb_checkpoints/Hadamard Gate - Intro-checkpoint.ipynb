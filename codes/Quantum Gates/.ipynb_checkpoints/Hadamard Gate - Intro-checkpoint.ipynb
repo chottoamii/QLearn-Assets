{
 "cells": [
  {
   "cell_type": "markdown",
   "id": "3a0ce767",
   "metadata": {},
   "source": [
    "# Visualizing the Superposition"
   ]
  },
  {
   "cell_type": "markdown",
   "id": "d96461e0",
   "metadata": {},
   "source": [
    "At first, let us explore and verify the fact that, Hadamard Gate indeed creates an equal superposition of quantum states."
   ]
  },
  {
   "cell_type": "code",
   "execution_count": 22,
   "id": "b3a7436b",
   "metadata": {},
   "outputs": [],
   "source": [
    "from qiskit import QuantumCircuit, transpile, Aer, execute\n",
    "from qiskit.visualization import plot_histogram"
   ]
  },
  {
   "cell_type": "markdown",
   "id": "ef3507bc",
   "metadata": {},
   "source": [
    "First, we build the simplest circuit containing only a single qubit and a single Hadamard Gate."
   ]
  },
  {
   "cell_type": "code",
   "execution_count": 23,
   "id": "20b6201b",
   "metadata": {},
   "outputs": [
    {
     "data": {
      "image/png": "[encoded data removed]",
      "text/plain": [
       "<Figure size 185.453x200.667 with 1 Axes>"
      ]
     },
     "execution_count": 23,
     "metadata": {},
     "output_type": "execute_result"
    }
   ],
   "source": [
    "# Create a quantum circuit with one qubit and one classical bit for measurement\n",
    "qc = QuantumCircuit(1,1)\n",
    "\n",
    "# Apply Hadamard gate to the first qubit\n",
    "qc.h(0)\n",
    "\n",
    "qc.draw('mpl')"
   ]
  },
  {
   "cell_type": "markdown",
   "id": "9d640252",
   "metadata": {},
   "source": [
    "Now, to verify what we know, we must also measure the qubit.\n",
    "\n",
    "So, we will introduce a measuring device as well. Here we need to understand, after the measurement happens, the superposition magically shrinks down to a single state. Therefore, qiskit introduces a classical register containing classical bits to store the results.\n",
    "\n",
    "In the function measure, we provide two arguments, which qbit to measure and in which classical bit to store the result. Let's use the first classical bit c[0] for now."
   ]
  },
  {
   "cell_type": "code",
   "execution_count": 24,
   "id": "dc9a1934",
   "metadata": {},
   "outputs": [
    {
     "data": {
      "image/png": "[encoded data removed]",
      "text/plain": [
       "<Figure size 269.064x200.667 with 1 Axes>"
      ]
     },
     "execution_count": 24,
     "metadata": {},
     "output_type": "execute_result"
    }
   ],
   "source": [
    "# Measure the qubits\n",
    "qc.measure([0],[0])  # measure qubit[0] and store the result into classical_bit[0]\n",
    "\n",
    "qc.draw('mpl')"
   ]
  },
  {
   "cell_type": "markdown",
   "id": "4432bb4e",
   "metadata": {},
   "source": [
    "Next comes the most exciting part of qiskit, we will be able to test our circuit right onto a real quantum hardware. Here we use 'qasm_simulator'."
   ]
  },
  {
   "cell_type": "code",
   "execution_count": 26,
   "id": "940f156d",
   "metadata": {},
   "outputs": [
    {
     "ename": "SyntaxError",
     "evalue": "positional argument follows keyword argument (3443234.py, line 8)",
     "output_type": "error",
     "traceback": [
      "\u001b[1;36m  Cell \u001b[1;32mIn[26], line 8\u001b[1;36m\u001b[0m\n\u001b[1;33m    result = execute(transpiled_qc, shots=1000, backend).result()\u001b[0m\n\u001b[1;37m                                                       ^\u001b[0m\n\u001b[1;31mSyntaxError\u001b[0m\u001b[1;31m:\u001b[0m positional argument follows keyword argument\n"
     ]
    }
   ],
   "source": [
    "# Choose the backend (simulator or real quantum device)\n",
    "backend = Aer.get_backend('qasm_simulator')\n",
    "\n",
    "# Transpile the quantum circuit for the chosen backend\n",
    "transpiled_qc = transpile(qc, backend)\n",
    "\n",
    "# Execute the quantum circuit on the chosen backend\n",
    "result = execute(transpiled_qc, backend, shots=1000).result()\n",
    "\n",
    "# Get the counts of the measurements\n",
    "counts = result.get_counts()\n",
    "\n",
    "# Plot the histogram\n",
    "plot_histogram(counts)"
   ]
  },
  {
   "cell_type": "code",
   "execution_count": null,
   "id": "c7339396",
   "metadata": {},
   "outputs": [],
   "source": []
  }
 ],
 "metadata": {
  "kernelspec": {
   "display_name": "Python 3 (ipykernel)",
   "language": "python",
   "name": "python3"
  },
  "language_info": {
   "codemirror_mode": {
    "name": "ipython",
    "version": 3
   },
   "file_extension": ".py",
   "mimetype": "text/x-python",
   "name": "python",
   "nbconvert_exporter": "python",
   "pygments_lexer": "ipython3",
   "version": "3.11.4"
  }
 },
 "nbformat": 4,
 "nbformat_minor": 5
}
