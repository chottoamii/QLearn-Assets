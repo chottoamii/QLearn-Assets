{
 "cells": [
  {
   "cell_type": "markdown",
   "id": "d404f9c0",
   "metadata": {},
   "source": [
    "### Section: The Math Behind the Hadamard Gate\n",
    "\n",
    "#### Math Preliminaries:\n",
    "\n",
    "Understanding the Hadamard gate involves a basic grasp of complex numbers and linear algebra. In quantum computing, we use complex numbers to represent probabilities and states. A complex number, denoted as \\(a + bi\\), has a real part (\\(a\\)) and an imaginary part (\\(bi\\)). \n",
    "\n",
    "Linear algebra concepts, particularly matrices, play a crucial role. A matrix is like a grid of numbers, and we use them to describe quantum operations. The Hadamard gate is one such quantum gate, and its mathematical foundation lies in these concepts.\n",
    "\n",
    "#### Unitary Matrix for Hadamard Gate:\n",
    "\n",
    "The Hadamard gate is represented by the following 2x2 unitary matrix:\n",
    "\n",
    "\\( H = \\frac{1}{\\sqrt{2}} \\begin{bmatrix} 1 & 1 \\\\ 1 & -1 \\end{bmatrix} \\)\n",
    "\n",
    "This matrix is unitary because its conjugate transpose (also known as the adjoint or Hermitian conjugate) is the inverse of the matrix:\n",
    "\n",
    "\\[ H^{\\dagger} = H^{-1} \\]\n",
    "\n",
    "#### Justification for the Matrix:\n",
    "\n",
    "The Hadamard gate is designed to create superposition. It takes the |0⟩ state to \\(\\frac{|0⟩ + |1⟩}{\\sqrt{2}}\\) and the |1⟩ state to \\(\\frac{|0⟩ - |1⟩}{\\sqrt{2}}\\). The matrix elements achieve this transformation in a way that ensures unitarity, preserving the probabilities.\n",
    "\n",
    "#### Numerical Examples:\n",
    "\n",
    "1. Applying the Hadamard gate to |0⟩:\n",
    "\n",
    "\\[ H|0⟩ = \\frac{1}{\\sqrt{2}} \\begin{bmatrix} 1 & 1 \\\\ 1 & -1 \\end{bmatrix} \\begin{bmatrix} 1 \\\\ 0 \\end{bmatrix} = \\frac{1}{\\sqrt{2}} \\begin{bmatrix} 1 \\\\ 1 \\end{bmatrix} = \\frac{|0⟩ + |1⟩}{\\sqrt{2}} \\]\n",
    "\n",
    "2. Applying the Hadamard gate to |1⟩:\n",
    "\n",
    "\\[ H|1⟩ = \\frac{1}{\\sqrt{2}} \\begin{bmatrix} 1 & 1 \\\\ 1 & -1 \\end{bmatrix} \\begin{bmatrix} 0 \\\\ 1 \\end{bmatrix} = \\frac{1}{\\sqrt{2}} \\begin{bmatrix} 1 \\\\ -1 \\end{bmatrix} = \\frac{|0⟩ - |1⟩}{\\sqrt{2}} \\]\n",
    "\n",
    "These examples illustrate how the Hadamard gate transforms quantum states, creating the superposition that is fundamental to quantum computing."
   ]
  },
  {
   "cell_type": "code",
   "execution_count": null,
   "id": "14dff419",
   "metadata": {},
   "outputs": [],
   "source": []
  }
 ],
 "metadata": {
  "kernelspec": {
   "display_name": "Python 3 (ipykernel)",
   "language": "python",
   "name": "python3"
  },
  "language_info": {
   "codemirror_mode": {
    "name": "ipython",
    "version": 3
   },
   "file_extension": ".py",
   "mimetype": "text/x-python",
   "name": "python",
   "nbconvert_exporter": "python",
   "pygments_lexer": "ipython3",
   "version": "3.11.4"
  }
 },
 "nbformat": 4,
 "nbformat_minor": 5
}
